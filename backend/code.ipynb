{
 "cells": [
  {
   "cell_type": "code",
   "execution_count": 1,
   "id": "15b242ee-b85b-4cc3-b47c-3611d761c677",
   "metadata": {},
   "outputs": [],
   "source": [
    "import re\n",
    "import pdfplumber\n",
    "import pandas as pd\n",
    "from collections import namedtuple"
   ]
  },
  {
   "cell_type": "code",
   "execution_count": 2,
   "id": "3a8db4d7-d343-40eb-9a22-1673b2d9376d",
   "metadata": {},
   "outputs": [],
   "source": [
    "Line = namedtuple('Line', 'college_code college_name branch_code branch category percentile')\n"
   ]
  },
  {
   "cell_type": "code",
   "execution_count": 3,
   "id": "f8d687f7-247a-4697-81ae-93893b2f6944",
   "metadata": {},
   "outputs": [],
   "source": [
    "\n",
    "college_re = re.compile(r'^(\\d{4})\\s-\\s(.*)')"
   ]
  },
  {
   "cell_type": "code",
   "execution_count": 4,
   "id": "0e9892d5-809b-496b-92eb-25e6dbed1459",
   "metadata": {},
   "outputs": [
    {
     "data": {
      "text/plain": [
       "'1002'"
      ]
     },
     "execution_count": 4,
     "metadata": {},
     "output_type": "execute_result"
    }
   ],
   "source": [
    "college_re.search('1002 - Government College of Engineering, Amravati').group(1)"
   ]
  },
  {
   "cell_type": "code",
   "execution_count": 5,
   "id": "cf0bef58-5ef9-4938-b2f4-89d2a0e6696f",
   "metadata": {},
   "outputs": [
    {
     "data": {
      "text/plain": [
       "'Government College of Engineering, Amravati'"
      ]
     },
     "execution_count": 5,
     "metadata": {},
     "output_type": "execute_result"
    }
   ],
   "source": [
    "college_re.search('1002 - Government College of Engineering, Amravati').group(2)\n"
   ]
  },
  {
   "cell_type": "code",
   "execution_count": 6,
   "id": "2f3bcab4-de1a-4ab3-bb45-0fddd73dd0d3",
   "metadata": {},
   "outputs": [],
   "source": [
    "branch_re = re.compile(r'(\\d{9})\\s-\\s(.*)')"
   ]
  },
  {
   "cell_type": "code",
   "execution_count": 7,
   "id": "d3f1970f-71e6-4831-aabf-9021e99c54f1",
   "metadata": {},
   "outputs": [
    {
     "data": {
      "text/plain": [
       "'Civil Engineering'"
      ]
     },
     "execution_count": 7,
     "metadata": {},
     "output_type": "execute_result"
    }
   ],
   "source": [
    "branch_re.search('100219110 - Civil Engineering').group(2)"
   ]
  },
  {
   "cell_type": "code",
   "execution_count": 8,
   "id": "40be9bc2-9e96-4612-8cb9-80f778ac5f96",
   "metadata": {},
   "outputs": [],
   "source": [
    "category_re = re.compile(r'Category:\\s(.*)')"
   ]
  },
  {
   "cell_type": "code",
   "execution_count": 10,
   "id": "df335249-8234-4a6c-8af8-363ce9ee4fd1",
   "metadata": {},
   "outputs": [
    {
     "data": {
      "text/plain": [
       "'GOPENS'"
      ]
     },
     "execution_count": 10,
     "metadata": {},
     "output_type": "execute_result"
    }
   ],
   "source": [
    "\n",
    "category_re.search('Category: GOPENS').group(1)"
   ]
  },
  {
   "cell_type": "code",
   "execution_count": 11,
   "id": "7d3cfd1b-3d92-4d50-87a9-484345ba87c3",
   "metadata": {},
   "outputs": [],
   "source": [
    "percentile_re = re.compile(r'\\(([0-9]*)\\.([0-9]*)\\)')"
   ]
  },
  {
   "cell_type": "code",
   "execution_count": 12,
   "id": "d8a4a104-1c3c-45a2-b168-fe42af8cbfc7",
   "metadata": {},
   "outputs": [
    {
     "data": {
      "text/plain": [
       "<re.Match object; span=(1, 13), match='(88.5013511)'>"
      ]
     },
     "execution_count": 12,
     "metadata": {},
     "output_type": "execute_result"
    }
   ],
   "source": [
    "percentile_re.search('((88.5013511)')\n"
   ]
  },
  {
   "cell_type": "code",
   "execution_count": 13,
   "id": "c74c9c25-4525-4292-a987-b4ea7dd7b149",
   "metadata": {},
   "outputs": [],
   "source": [
    "college1 = Line('1002','Government College of Engineering, Amravati','100219110','Civil Engineering','GOPENS','(88.5013511)')"
   ]
  },
  {
   "cell_type": "code",
   "execution_count": 15,
   "id": "e62d79c9-c34b-4088-82a2-649ee8fb7d6b",
   "metadata": {},
   "outputs": [
    {
     "data": {
      "text/plain": [
       "'(88.5013511)'"
      ]
     },
     "execution_count": 15,
     "metadata": {},
     "output_type": "execute_result"
    }
   ],
   "source": [
    "\n",
    "college1.percentile"
   ]
  },
  {
   "cell_type": "code",
   "execution_count": null,
   "id": "219ee15e-639b-4e64-9b1a-0d8fb0642af3",
   "metadata": {},
   "outputs": [],
   "source": [
    "file = 'cap1.pdf'"
   ]
  },
  {
   "cell_type": "code",
   "execution_count": null,
   "id": "7a532797-c588-4688-ae31-c277ff30eb8c",
   "metadata": {},
   "outputs": [
    {
     "data": {
      "text/plain": [
       "'cap1.pdf'"
      ]
     },
     "execution_count": 17,
     "metadata": {},
     "output_type": "execute_result"
    }
   ],
   "source": [
    "file"
   ]
  },
  {
   "cell_type": "code",
   "execution_count": 25,
   "id": "ff131343-96af-4988-9c64-848ec803cd41",
   "metadata": {},
   "outputs": [],
   "source": [
    "import pdfplumber\n",
    "\n",
    "lines = []\n",
    "\n",
    "with pdfplumber.open(file) as pdf:\n",
    "    for page in pdf.pages:\n",
    "        text = page.extract_text()\n",
    "        if not text:\n",
    "            continue\n",
    "\n",
    "        # Temporary holders\n",
    "        college_id = college_name = branch_id = branch_name = category = percentile = None\n",
    "\n",
    "        for line in text.split('\\n'):\n",
    "            clg = college_re.search(line)\n",
    "            branch = branch_re.search(line)\n",
    "            category_match = category_re.search(line)\n",
    "            open_percent = percentile_re.search(line)\n",
    "\n",
    "            if clg:\n",
    "                college_id = clg.group(1)\n",
    "                college_name = clg.group(2)\n",
    "\n",
    "            if branch:\n",
    "                branch_id = branch.group(1)\n",
    "                branch_name = branch.group(2)\n",
    "\n",
    "            if category_match:\n",
    "                category = category_match.group(1)\n",
    "\n",
    "            if open_percent:\n",
    "                percentile = open_percent.group(1) + '.' + open_percent.group(2)\n",
    "\n",
    "                # Only append when all required fields are present\n",
    "                if all([college_id, college_name, branch_id, branch_name, category, percentile]):\n",
    "                    lines.append(Line(college_id, college_name, branch_id, branch_name, category, percentile))\n",
    "\n",
    "                    # Reset values if each line contains one record\n",
    "                    college_id = college_name = branch_id = branch_name = category = percentile = None\n"
   ]
  },
  {
   "cell_type": "code",
   "execution_count": 26,
   "id": "358c6609-ec4d-4564-b48f-f32e25dbe1b9",
   "metadata": {},
   "outputs": [],
   "source": [
    "clg"
   ]
  },
  {
   "cell_type": "code",
   "execution_count": 57,
   "id": "ab790c63-1de5-4215-8517-d3de6b2d89c7",
   "metadata": {},
   "outputs": [
    {
     "data": {
      "text/plain": [
       "'D Government of Maharashtra\\ni State Common Entrance Test Cell\\nr Cut Off List for Maharashtra & Minority Seats of CAP Round I for Admission to First Year of Four Year\\nDegree Courses In Engineering and Technology & Master of Engineering and Technology (Integrated 5 Years) for the Year 2024-25\\n16126 - Tatyasaheb Kore Institute of Engineering and Technology, Yelur\\n1612624210 - Computer Science and Engineering\\nStatus: Un-Aided Autonomous Home University : Autonomous Institute\\nState Level\\nStage GOPENS GSCS GVJS GNT1S GNT2S GNT3S GOBCS GSEBCS LOPENS LSCS LVJS LNT1S LNT2S LOBCS LSEBCS DEFOPENS TFWS EWS\\nI 80985 156820 143452 108042 98186 120562 119628 93242 75654 148556 135647 100568 77566 100891 80250 155115 59226 161163\\n(70.5215521) (24.7657909) (35.5925864) (57.3310702) (62.8351694) (50.8618056) (51.1396363) (65.2878345) (72.8176141) (31.6234334) (41.0394031) (61.3261708) (72.1239122) (60.8485656) (70.8722936) (26.1271353) (79.4055287) (21.3531102)\\n1612625210 - Cyber Security\\nStatus: Un-Aided Autonomous Home University : Autonomous Institute\\nState Level\\nStage GOPENS GSCS GSTS GVJS GNT1S GNT3S GOBCS GSEBCS LOPENS LSCS LSTS LNT2S LOBCS LSEBCS TFWS EWS\\nI 110906 155018 165287 157793 114339 123986 140889 169287 95850 105385 125447 165450 65126 140286\\n(56.5649954) (26.1271353) (16.8882979) (24.0471793) (54.0859766) (48.6637821) (37.6014199) (13.0991478) (63.5258359) (59.3445914) (47.6302148) (16.7391126) (76.8897938) (38.4109612)\\nII 164836 97104\\n(17.7766170) (63.0759599)\\n1612626210 - Computer Science and Business Systems\\nStatus: Un-Aided Autonomous Home University : Autonomous Institute\\nState Level\\nStage GOPENS GNT2S GSEBCS LOPENS LSCS LVJS LNT2S LOBCS LSEBCS TFWS\\nI 176563 176789 178867 140781 171740 151102 171707 148236 148098 92209\\n(4.3685242) (4.0661895) (1.1851062) (37.6881791) (10.3145909) (29.6395567) (10.4465918) (31.6884901) (32.0977394) (65.5460439)\\n1612629310 - Electrical Engineering\\nStatus: Un-Aided Autonomous Home University : Autonomous Institute\\nState Level\\nStage GOPENS GSCS GVJS GNT2S GOBCS GSEBCS LOPENS LOBCS LSEBCS TFWS EWS\\nI 111811 168499 131741 122226 159507 121620 104944 110323 119365 75287 133443\\n(55.3559436) (13.7020033) (43.8452614) (49.7949643) (22.4081803) (50.0957604) (59.9791975) (56.8466110) (51.2170385) (73.1122470) (42.7253460)\\nLegends: Starting character G-General, L-Ladies, End character H-Home University, O-Other than Home University,S-State Level, AI- All India Seat.\\nMaharashtra State Seats - Cut Off Indicates Maharashtra State General Merit No.; Figures in bracket Indicates Merit Percentile.\\n1'"
      ]
     },
     "execution_count": 57,
     "metadata": {},
     "output_type": "execute_result"
    }
   ],
   "source": [
    "text"
   ]
  },
  {
   "cell_type": "code",
   "execution_count": 59,
   "id": "0c362db0-f875-4a3d-a422-a6d58401d8b4",
   "metadata": {},
   "outputs": [
    {
     "data": {
      "text/plain": [
       "[]"
      ]
     },
     "execution_count": 59,
     "metadata": {},
     "output_type": "execute_result"
    }
   ],
   "source": [
    "lines[:6]"
   ]
  },
  {
   "cell_type": "code",
   "execution_count": 53,
   "id": "a7762cdc-9773-4d9e-b3cf-d53bcb3d0c54",
   "metadata": {},
   "outputs": [],
   "source": [
    "df = pd.DataFrame(lines)"
   ]
  },
  {
   "cell_type": "code",
   "execution_count": 54,
   "id": "9e68de4c-3842-4042-a5fe-c4f8e2ae1cd0",
   "metadata": {},
   "outputs": [
    {
     "data": {
      "text/html": [
       "<div>\n",
       "<style scoped>\n",
       "    .dataframe tbody tr th:only-of-type {\n",
       "        vertical-align: middle;\n",
       "    }\n",
       "\n",
       "    .dataframe tbody tr th {\n",
       "        vertical-align: top;\n",
       "    }\n",
       "\n",
       "    .dataframe thead th {\n",
       "        text-align: right;\n",
       "    }\n",
       "</style>\n",
       "<table border=\"1\" class=\"dataframe\">\n",
       "  <thead>\n",
       "    <tr style=\"text-align: right;\">\n",
       "      <th></th>\n",
       "    </tr>\n",
       "  </thead>\n",
       "  <tbody>\n",
       "  </tbody>\n",
       "</table>\n",
       "</div>"
      ],
      "text/plain": [
       "Empty DataFrame\n",
       "Columns: []\n",
       "Index: []"
      ]
     },
     "execution_count": 54,
     "metadata": {},
     "output_type": "execute_result"
    }
   ],
   "source": [
    "df.head()"
   ]
  },
  {
   "cell_type": "code",
   "execution_count": null,
   "id": "ade96460-449e-4dd9-be5b-690ec629dc58",
   "metadata": {},
   "outputs": [],
   "source": [
    "df.to_csv('cutoff.csv',index=False)"
   ]
  },
  {
   "cell_type": "code",
   "execution_count": null,
   "id": "360c9158-ff54-433a-b3a2-78b96260bae5",
   "metadata": {},
   "outputs": [
    {
     "ename": "EmptyDataError",
     "evalue": "No columns to parse from file",
     "output_type": "error",
     "traceback": [
      "\u001b[31m---------------------------------------------------------------------------\u001b[39m",
      "\u001b[31mEmptyDataError\u001b[39m                            Traceback (most recent call last)",
      "\u001b[36mCell\u001b[39m\u001b[36m \u001b[39m\u001b[32mIn[56]\u001b[39m\u001b[32m, line 1\u001b[39m\n\u001b[32m----> \u001b[39m\u001b[32m1\u001b[39m df = \u001b[43mpd\u001b[49m\u001b[43m.\u001b[49m\u001b[43mread_csv\u001b[49m\u001b[43m(\u001b[49m\u001b[33;43m'\u001b[39;49m\u001b[33;43mmhtcet.csv\u001b[39;49m\u001b[33;43m'\u001b[39;49m\u001b[43m)\u001b[49m\n",
      "\u001b[36mFile \u001b[39m\u001b[32m~\\AppData\\Local\\Programs\\Python\\Python312\\Lib\\site-packages\\pandas\\io\\parsers\\readers.py:1026\u001b[39m, in \u001b[36mread_csv\u001b[39m\u001b[34m(filepath_or_buffer, sep, delimiter, header, names, index_col, usecols, dtype, engine, converters, true_values, false_values, skipinitialspace, skiprows, skipfooter, nrows, na_values, keep_default_na, na_filter, verbose, skip_blank_lines, parse_dates, infer_datetime_format, keep_date_col, date_parser, date_format, dayfirst, cache_dates, iterator, chunksize, compression, thousands, decimal, lineterminator, quotechar, quoting, doublequote, escapechar, comment, encoding, encoding_errors, dialect, on_bad_lines, delim_whitespace, low_memory, memory_map, float_precision, storage_options, dtype_backend)\u001b[39m\n\u001b[32m   1013\u001b[39m kwds_defaults = _refine_defaults_read(\n\u001b[32m   1014\u001b[39m     dialect,\n\u001b[32m   1015\u001b[39m     delimiter,\n\u001b[32m   (...)\u001b[39m\u001b[32m   1022\u001b[39m     dtype_backend=dtype_backend,\n\u001b[32m   1023\u001b[39m )\n\u001b[32m   1024\u001b[39m kwds.update(kwds_defaults)\n\u001b[32m-> \u001b[39m\u001b[32m1026\u001b[39m \u001b[38;5;28;01mreturn\u001b[39;00m \u001b[43m_read\u001b[49m\u001b[43m(\u001b[49m\u001b[43mfilepath_or_buffer\u001b[49m\u001b[43m,\u001b[49m\u001b[43m \u001b[49m\u001b[43mkwds\u001b[49m\u001b[43m)\u001b[49m\n",
      "\u001b[36mFile \u001b[39m\u001b[32m~\\AppData\\Local\\Programs\\Python\\Python312\\Lib\\site-packages\\pandas\\io\\parsers\\readers.py:620\u001b[39m, in \u001b[36m_read\u001b[39m\u001b[34m(filepath_or_buffer, kwds)\u001b[39m\n\u001b[32m    617\u001b[39m _validate_names(kwds.get(\u001b[33m\"\u001b[39m\u001b[33mnames\u001b[39m\u001b[33m\"\u001b[39m, \u001b[38;5;28;01mNone\u001b[39;00m))\n\u001b[32m    619\u001b[39m \u001b[38;5;66;03m# Create the parser.\u001b[39;00m\n\u001b[32m--> \u001b[39m\u001b[32m620\u001b[39m parser = \u001b[43mTextFileReader\u001b[49m\u001b[43m(\u001b[49m\u001b[43mfilepath_or_buffer\u001b[49m\u001b[43m,\u001b[49m\u001b[43m \u001b[49m\u001b[43m*\u001b[49m\u001b[43m*\u001b[49m\u001b[43mkwds\u001b[49m\u001b[43m)\u001b[49m\n\u001b[32m    622\u001b[39m \u001b[38;5;28;01mif\u001b[39;00m chunksize \u001b[38;5;129;01mor\u001b[39;00m iterator:\n\u001b[32m    623\u001b[39m     \u001b[38;5;28;01mreturn\u001b[39;00m parser\n",
      "\u001b[36mFile \u001b[39m\u001b[32m~\\AppData\\Local\\Programs\\Python\\Python312\\Lib\\site-packages\\pandas\\io\\parsers\\readers.py:1620\u001b[39m, in \u001b[36mTextFileReader.__init__\u001b[39m\u001b[34m(self, f, engine, **kwds)\u001b[39m\n\u001b[32m   1617\u001b[39m     \u001b[38;5;28mself\u001b[39m.options[\u001b[33m\"\u001b[39m\u001b[33mhas_index_names\u001b[39m\u001b[33m\"\u001b[39m] = kwds[\u001b[33m\"\u001b[39m\u001b[33mhas_index_names\u001b[39m\u001b[33m\"\u001b[39m]\n\u001b[32m   1619\u001b[39m \u001b[38;5;28mself\u001b[39m.handles: IOHandles | \u001b[38;5;28;01mNone\u001b[39;00m = \u001b[38;5;28;01mNone\u001b[39;00m\n\u001b[32m-> \u001b[39m\u001b[32m1620\u001b[39m \u001b[38;5;28mself\u001b[39m._engine = \u001b[38;5;28;43mself\u001b[39;49m\u001b[43m.\u001b[49m\u001b[43m_make_engine\u001b[49m\u001b[43m(\u001b[49m\u001b[43mf\u001b[49m\u001b[43m,\u001b[49m\u001b[43m \u001b[49m\u001b[38;5;28;43mself\u001b[39;49m\u001b[43m.\u001b[49m\u001b[43mengine\u001b[49m\u001b[43m)\u001b[49m\n",
      "\u001b[36mFile \u001b[39m\u001b[32m~\\AppData\\Local\\Programs\\Python\\Python312\\Lib\\site-packages\\pandas\\io\\parsers\\readers.py:1898\u001b[39m, in \u001b[36mTextFileReader._make_engine\u001b[39m\u001b[34m(self, f, engine)\u001b[39m\n\u001b[32m   1895\u001b[39m     \u001b[38;5;28;01mraise\u001b[39;00m \u001b[38;5;167;01mValueError\u001b[39;00m(msg)\n\u001b[32m   1897\u001b[39m \u001b[38;5;28;01mtry\u001b[39;00m:\n\u001b[32m-> \u001b[39m\u001b[32m1898\u001b[39m     \u001b[38;5;28;01mreturn\u001b[39;00m \u001b[43mmapping\u001b[49m\u001b[43m[\u001b[49m\u001b[43mengine\u001b[49m\u001b[43m]\u001b[49m\u001b[43m(\u001b[49m\u001b[43mf\u001b[49m\u001b[43m,\u001b[49m\u001b[43m \u001b[49m\u001b[43m*\u001b[49m\u001b[43m*\u001b[49m\u001b[38;5;28;43mself\u001b[39;49m\u001b[43m.\u001b[49m\u001b[43moptions\u001b[49m\u001b[43m)\u001b[49m\n\u001b[32m   1899\u001b[39m \u001b[38;5;28;01mexcept\u001b[39;00m \u001b[38;5;167;01mException\u001b[39;00m:\n\u001b[32m   1900\u001b[39m     \u001b[38;5;28;01mif\u001b[39;00m \u001b[38;5;28mself\u001b[39m.handles \u001b[38;5;129;01mis\u001b[39;00m \u001b[38;5;129;01mnot\u001b[39;00m \u001b[38;5;28;01mNone\u001b[39;00m:\n",
      "\u001b[36mFile \u001b[39m\u001b[32m~\\AppData\\Local\\Programs\\Python\\Python312\\Lib\\site-packages\\pandas\\io\\parsers\\c_parser_wrapper.py:93\u001b[39m, in \u001b[36mCParserWrapper.__init__\u001b[39m\u001b[34m(self, src, **kwds)\u001b[39m\n\u001b[32m     90\u001b[39m \u001b[38;5;28;01mif\u001b[39;00m kwds[\u001b[33m\"\u001b[39m\u001b[33mdtype_backend\u001b[39m\u001b[33m\"\u001b[39m] == \u001b[33m\"\u001b[39m\u001b[33mpyarrow\u001b[39m\u001b[33m\"\u001b[39m:\n\u001b[32m     91\u001b[39m     \u001b[38;5;66;03m# Fail here loudly instead of in cython after reading\u001b[39;00m\n\u001b[32m     92\u001b[39m     import_optional_dependency(\u001b[33m\"\u001b[39m\u001b[33mpyarrow\u001b[39m\u001b[33m\"\u001b[39m)\n\u001b[32m---> \u001b[39m\u001b[32m93\u001b[39m \u001b[38;5;28mself\u001b[39m._reader = \u001b[43mparsers\u001b[49m\u001b[43m.\u001b[49m\u001b[43mTextReader\u001b[49m\u001b[43m(\u001b[49m\u001b[43msrc\u001b[49m\u001b[43m,\u001b[49m\u001b[43m \u001b[49m\u001b[43m*\u001b[49m\u001b[43m*\u001b[49m\u001b[43mkwds\u001b[49m\u001b[43m)\u001b[49m\n\u001b[32m     95\u001b[39m \u001b[38;5;28mself\u001b[39m.unnamed_cols = \u001b[38;5;28mself\u001b[39m._reader.unnamed_cols\n\u001b[32m     97\u001b[39m \u001b[38;5;66;03m# error: Cannot determine type of 'names'\u001b[39;00m\n",
      "\u001b[36mFile \u001b[39m\u001b[32mparsers.pyx:581\u001b[39m, in \u001b[36mpandas._libs.parsers.TextReader.__cinit__\u001b[39m\u001b[34m()\u001b[39m\n",
      "\u001b[31mEmptyDataError\u001b[39m: No columns to parse from file"
     ]
    }
   ],
   "source": [
    "df = pd.read_csv('cutoff.csv')"
   ]
  },
  {
   "cell_type": "code",
   "execution_count": 51,
   "id": "b2cd39d9-7ca0-4112-9d77-c7750bedb1c3",
   "metadata": {},
   "outputs": [
    {
     "data": {
      "text/html": [
       "<div>\n",
       "<style scoped>\n",
       "    .dataframe tbody tr th:only-of-type {\n",
       "        vertical-align: middle;\n",
       "    }\n",
       "\n",
       "    .dataframe tbody tr th {\n",
       "        vertical-align: top;\n",
       "    }\n",
       "\n",
       "    .dataframe thead th {\n",
       "        text-align: right;\n",
       "    }\n",
       "</style>\n",
       "<table border=\"1\" class=\"dataframe\">\n",
       "  <thead>\n",
       "    <tr style=\"text-align: right;\">\n",
       "      <th></th>\n",
       "    </tr>\n",
       "  </thead>\n",
       "  <tbody>\n",
       "  </tbody>\n",
       "</table>\n",
       "</div>"
      ],
      "text/plain": [
       "Empty DataFrame\n",
       "Columns: []\n",
       "Index: []"
      ]
     },
     "execution_count": 51,
     "metadata": {},
     "output_type": "execute_result"
    }
   ],
   "source": [
    "df.head()"
   ]
  },
  {
   "cell_type": "code",
   "execution_count": null,
   "id": "daa20a72-56f9-4344-98e3-d5e89973c0d9",
   "metadata": {},
   "outputs": [],
   "source": []
  }
 ],
 "metadata": {
  "kernelspec": {
   "display_name": "Python 3 (ipykernel)",
   "language": "python",
   "name": "python3"
  },
  "language_info": {
   "codemirror_mode": {
    "name": "ipython",
    "version": 3
   },
   "file_extension": ".py",
   "mimetype": "text/x-python",
   "name": "python",
   "nbconvert_exporter": "python",
   "pygments_lexer": "ipython3",
   "version": "3.12.5"
  }
 },
 "nbformat": 4,
 "nbformat_minor": 5
}
